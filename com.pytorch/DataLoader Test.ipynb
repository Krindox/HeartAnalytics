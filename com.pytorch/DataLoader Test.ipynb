{
 "cells": [
  {
   "cell_type": "code",
   "execution_count": 3,
   "metadata": {},
   "outputs": [
    {
     "name": "stdout",
     "output_type": "stream",
     "text": [
      "Docs prep....\n",
      "Vectorize...\n",
      "Vectorization done\n",
      "(25000, 200)\n",
      "(25000, 200)\n"
     ]
    }
   ],
   "source": [
    "from sklearn.feature_extraction.text import TfidfVectorizer\n",
    "from sklearn.feature_extraction.text import ENGLISH_STOP_WORDS\n",
    "import numpy as np\n",
    "import pandas as pd\n",
    "from sklearn.model_selection import train_test_split\n",
    "import matplotlib.pyplot as plt\n",
    "from matplotlib import style\n",
    "import torch\n",
    "import torch.nn as nn\n",
    "import torch.nn.functional as F\n",
    "from torch.autograd import Variable\n",
    "import os\n",
    "\n",
    "style.use('ggplot')\n",
    "\n",
    "POS_TRAIN_PATH = '../datasets/aclImdb/train/pos/'\n",
    "NEG_TRAIN_PATH = '../datasets//aclImdb/train/neg/'\n",
    "pos_files = os.listdir(POS_TRAIN_PATH)\n",
    "neg_files = os.listdir(NEG_TRAIN_PATH)\n",
    "print('Docs prep....')\n",
    "pos_lines = []\n",
    "neg_lines = []\n",
    "for file in pos_files:\n",
    "    with open(POS_TRAIN_PATH + file) as f:\n",
    "        lines = f.readlines()\n",
    "        lines = [line.strip() for line in lines if line.strip()]\n",
    "        pos_lines.extend(lines)\n",
    "for file in neg_files:\n",
    "    with open(NEG_TRAIN_PATH + file) as f:\n",
    "        lines = f.readlines()\n",
    "        lines = [line.strip() for line in lines if line.strip()]\n",
    "        neg_lines.extend(lines)\n",
    "\n",
    "docs = []\n",
    "docs.extend(pos_lines)\n",
    "docs.extend(neg_lines)\n",
    "print('Vectorize...')\n",
    "vectorizer2 = TfidfVectorizer(stop_words=ENGLISH_STOP_WORDS, max_features=200)\n",
    "vectorizer2.fit(docs)\n",
    "print('Vectorization done')\n",
    "\n",
    "input_data2 = vectorizer2.transform(docs).todense()\n",
    "print(input_data2.shape)\n",
    "df2 = pd.DataFrame(input_data2)\n",
    "\n",
    "pos_labels = np.zeros(len(pos_lines))\n",
    "neg_labels = np.ones(len(neg_lines))\n",
    "\n",
    "labels2 = []\n",
    "labels2 = np.append(pos_labels, neg_labels)\n",
    "df2['labels'] = labels2\n",
    "# df2.to_csv('data/aclImdb/processed_input_labelled3.csv')\n",
    "\n",
    "pos_labels = np.zeros(len(pos_lines))\n",
    "neg_labels = np.ones(len(neg_lines))\n",
    "\n",
    "X = df2.drop('labels', axis=1)\n",
    "X = np.array(X)\n",
    "print(X.shape)\n",
    "\n",
    "X_train, X_test, y_train, y_test = train_test_split(X, df2['labels'])\n"
   ]
  },
  {
   "cell_type": "code",
   "execution_count": 35,
   "metadata": {},
   "outputs": [
    {
     "data": {
      "text/plain": [
       "dtype('float64')"
      ]
     },
     "execution_count": 35,
     "metadata": {},
     "output_type": "execute_result"
    }
   ],
   "source": [
    "y_train.dtype\n"
   ]
  },
  {
   "cell_type": "markdown",
   "metadata": {},
   "source": [
    "## By Extending Dataset"
   ]
  },
  {
   "cell_type": "code",
   "execution_count": 1,
   "metadata": {},
   "outputs": [],
   "source": [
    "from torch.utils.data import Dataset\n",
    "from torch.utils.data import DataLoader\n",
    "class TextLoader(Dataset):\n",
    "    def __init__(self,X_train, y_train):\n",
    "        self.X_train =  np.array(X_train)\n",
    "        self.y_train = np.array(y_train)\n",
    "   \n",
    "    def __getitem__(self, index):\n",
    "        return self.X_train[index], self.y_train[index]\n",
    "    \n",
    "    def __len__(self):\n",
    "        \n",
    "        return len(self.X_train.tolist())\n"
   ]
  },
  {
   "cell_type": "code",
   "execution_count": 4,
   "metadata": {},
   "outputs": [],
   "source": [
    "dset = TextLoader(X_train, y_train)  \n",
    "\n",
    "trainLoader = DataLoader(dset, batch_size=100, shuffle=True, num_workers=4)"
   ]
  },
  {
   "cell_type": "code",
   "execution_count": 6,
   "metadata": {},
   "outputs": [
    {
     "name": "stdout",
     "output_type": "stream",
     "text": [
      "torch.Size([100, 200]) torch.Size([100])\n"
     ]
    }
   ],
   "source": [
    "x, y = list(trainLoader)[0]\n",
    "print(x.size(), y.size())"
   ]
  },
  {
   "cell_type": "markdown",
   "metadata": {},
   "source": [
    "## Secondary Method"
   ]
  },
  {
   "cell_type": "code",
   "execution_count": 7,
   "metadata": {},
   "outputs": [],
   "source": [
    "import torch.utils.data as data_utils\n",
    "import numpy as np"
   ]
  },
  {
   "cell_type": "code",
   "execution_count": 8,
   "metadata": {},
   "outputs": [],
   "source": [
    "train = data_utils.TensorDataset(torch.from_numpy(np.array(X_train)), torch.from_numpy(np.array(y_train)))"
   ]
  },
  {
   "cell_type": "code",
   "execution_count": 9,
   "metadata": {},
   "outputs": [],
   "source": [
    "train_loader = data_utils.DataLoader(train, batch_size=50, shuffle=True)"
   ]
  },
  {
   "cell_type": "code",
   "execution_count": 10,
   "metadata": {},
   "outputs": [
    {
     "name": "stdout",
     "output_type": "stream",
     "text": [
      "torch.Size([50, 200]) torch.Size([50])\n"
     ]
    }
   ],
   "source": [
    "x, y = list(train_loader)[0]\n",
    "print(x.size(), y.size())"
   ]
  }
 ],
 "metadata": {
  "kernelspec": {
   "display_name": "Python 3",
   "language": "python",
   "name": "python3"
  },
  "language_info": {
   "codemirror_mode": {
    "name": "ipython",
    "version": 3
   },
   "file_extension": ".py",
   "mimetype": "text/x-python",
   "name": "python",
   "nbconvert_exporter": "python",
   "pygments_lexer": "ipython3",
   "version": "3.5.2"
  }
 },
 "nbformat": 4,
 "nbformat_minor": 2
}
