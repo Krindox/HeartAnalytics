{
 "cells": [
  {
   "cell_type": "markdown",
   "metadata": {},
   "source": [
    "## Analyzing ECG "
   ]
  },
  {
   "cell_type": "code",
   "execution_count": 16,
   "metadata": {},
   "outputs": [],
   "source": [
    "from sklearn.model_selection import train_test_split\n",
    "import numpy as np\n",
    "import pandas as pd\n",
    "import matplotlib.pyplot as plt\n",
    "from matplotlib import style\n",
    "style.use('ggplot')"
   ]
  },
  {
   "cell_type": "code",
   "execution_count": 2,
   "metadata": {},
   "outputs": [],
   "source": [
    "DATASET_URL = \"datasets/arhythmia/\"\n",
    "with open(DATASET_URL+\"arrhythmia.data\") as f:\n",
    "    lines = f.readlines()\n",
    "# filter values and load\n",
    "X_ = []\n",
    "y_ = []\n",
    "for line in lines:\n",
    "    line = line.strip()\n",
    "    val = line.split(',')\n",
    "    val  = [float(v) if v != '?' else np.nan for v in val ] # replace missing values with nan\n",
    "    x_vals = val[:-1]\n",
    "    y_val = val[-1]\n",
    "    X_.append(x_vals)\n",
    "    y_.append(y_val)\n",
    "\n",
    "df_X = pd.DataFrame(np.array(X_))\n",
    "df_y = pd.DataFrame(np.array(y_))\n"
   ]
  },
  {
   "cell_type": "code",
   "execution_count": 5,
   "metadata": {},
   "outputs": [],
   "source": [
    "input_size = 279 # refer dataset description\n",
    "output_size = 13 # refer dataset description\n"
   ]
  },
  {
   "cell_type": "code",
   "execution_count": 6,
   "metadata": {},
   "outputs": [],
   "source": [
    "# replace np.nans\n",
    "df_X = df_X.replace(to_replace='?',value=np.nan )\n",
    "df_ = df_X.fillna(df_X.mean())"
   ]
  },
  {
   "cell_type": "code",
   "execution_count": 7,
   "metadata": {},
   "outputs": [
    {
     "data": {
      "text/plain": [
       "False"
      ]
     },
     "execution_count": 7,
     "metadata": {},
     "output_type": "execute_result"
    }
   ],
   "source": [
    "df_.isnull().values.any()"
   ]
  },
  {
   "cell_type": "code",
   "execution_count": 8,
   "metadata": {},
   "outputs": [
    {
     "data": {
      "text/plain": [
       "False"
      ]
     },
     "execution_count": 8,
     "metadata": {},
     "output_type": "execute_result"
    }
   ],
   "source": [
    "df_y.isnull().values.any()"
   ]
  },
  {
   "cell_type": "code",
   "execution_count": 11,
   "metadata": {},
   "outputs": [],
   "source": [
    "labels = np.unique(df_y)"
   ]
  },
  {
   "cell_type": "code",
   "execution_count": 12,
   "metadata": {},
   "outputs": [
    {
     "name": "stdout",
     "output_type": "stream",
     "text": [
      "(339, 279)\n",
      "(339,)\n",
      "(113, 279)\n",
      "(113,)\n"
     ]
    }
   ],
   "source": [
    "\"\"\"\n",
    "    Generate Labels for classes\n",
    "\"\"\"\n",
    "label_to_ix = {}\n",
    "ix_to_label = {}\n",
    "for i in range(len(labels)):\n",
    "    label_to_ix[labels[i]] = i\n",
    "    ix_to_label[i] = labels[i]\n",
    "\n",
    "# convert  output to labels \n",
    "y_vals = []\n",
    "for val in y_:\n",
    "    y_vals.append(label_to_ix[val])\n",
    "\n",
    "y_vals = np.array(y_vals)\n",
    "X_train, X_test, y_train, y_test = train_test_split(np.array(df_), y_vals)\n",
    "# verifying dimensions u need not  :P\n",
    "print(X_train.shape)\n",
    "print(y_train.shape)\n",
    "print(X_test.shape)\n",
    "print(y_test.shape)"
   ]
  },
  {
   "cell_type": "code",
   "execution_count": 18,
   "metadata": {},
   "outputs": [
    {
     "name": "stdout",
     "output_type": "stream",
     "text": [
      "----------\n",
      "Epoch: 0\n",
      "Loss:  5.1657209396362305\n",
      "Test Set  Accuracy :  0.017699115044247787\n",
      "----------\n",
      "Epoch: 10\n",
      "Loss:  1.716880202293396\n",
      "Test Set  Accuracy :  0.45132743362831856\n",
      "----------\n",
      "Epoch: 20\n",
      "Loss:  1.2390081882476807\n",
      "Test Set  Accuracy :  0.5398230088495575\n",
      "----------\n",
      "Epoch: 30\n",
      "Loss:  1.032656192779541\n",
      "Test Set  Accuracy :  0.5575221238938053\n",
      "----------\n",
      "Epoch: 40\n",
      "Loss:  0.877038300037384\n",
      "Test Set  Accuracy :  0.584070796460177\n",
      "----------\n",
      "Epoch: 50\n",
      "Loss:  0.7552915811538696\n",
      "Test Set  Accuracy :  0.5752212389380531\n",
      "----------\n",
      "Epoch: 60\n",
      "Loss:  0.6431186199188232\n",
      "Test Set  Accuracy :  0.584070796460177\n",
      "----------\n",
      "Epoch: 70\n",
      "Loss:  0.5538753867149353\n",
      "Test Set  Accuracy :  0.5752212389380531\n",
      "----------\n",
      "Epoch: 80\n",
      "Loss:  0.47922757267951965\n",
      "Test Set  Accuracy :  0.584070796460177\n",
      "----------\n",
      "Epoch: 90\n",
      "Loss:  0.4144020080566406\n",
      "Test Set  Accuracy :  0.5929203539823009\n",
      "Min acc: 0.017699115044247787 Epoch: 0\n",
      "Max acc: 0.6194690265486725 Epoch: 97\n"
     ]
    },
    {
     "data": {
      "image/png": "[encoded data removed]",
      "text/plain": [
       "<matplotlib.figure.Figure at 0x7feed809e470>"
      ]
     },
     "metadata": {},
     "output_type": "display_data"
    },
    {
     "name": "stdout",
     "output_type": "stream",
     "text": [
      "Accuracy over test set: 0.6194690265486725\n"
     ]
    }
   ],
   "source": [
    "\"\"\"\n",
    "    Time to play with torch\n",
    "\"\"\"\n",
    "import torch\n",
    "import torch.nn as nn\n",
    "import torch.nn.functional as F\n",
    "from torch.autograd import Variable\n",
    "\n",
    "class NN(nn.Module):\n",
    "    def __init__(self, input_size, output_size):\n",
    "        super(NN, self).__init__()\n",
    "        self.linear0 = nn.Linear(input_size, 200)\n",
    "        self.linear1 = nn.Linear(200, 100)\n",
    "        self.linear2 = nn.Linear(100,output_size)\n",
    "    \n",
    "    def forward(self, input):\n",
    "        output = F.relu(self.linear0(input))\n",
    "        output = F.relu(self.linear1(output))\n",
    "        output = F.relu(self.linear2(output))\n",
    "        return output\n",
    "\n",
    "def train(model, epochs=100):\n",
    "    acc = []\n",
    "    model.train(True)\n",
    "    for epoch in range(epochs):\n",
    "        optimizer.zero_grad()\n",
    "        inputs = Variable(torch.from_numpy(X_train.astype(np.float32)))\n",
    "        targets = Variable(torch.from_numpy(y_train))\n",
    "        output = model(inputs)\n",
    "        loss = criterion(output, targets)\n",
    "        losses.append(loss.data[0])\n",
    "        test_acc = evaluate(model)\n",
    "        acc.append(test_acc)\n",
    "        if epoch % 10 == 0:\n",
    "            print('-'*10)\n",
    "            print('Epoch:',epoch)\n",
    "            print('Loss: ',loss.data[0])\n",
    "#             print()\n",
    "            print('Test Set  Accuracy : ',test_acc)\n",
    "        \n",
    "        loss.backward()\n",
    "        optimizer.step()\n",
    "    print('Min acc:',min(acc), 'Epoch:',acc.index(min(acc)))\n",
    "    print('Max acc:', max(acc), 'Epoch:', acc.index(max(acc)))\n",
    "    plt.figure(1)\n",
    "    plt.subplot(211)\n",
    "    plt.ylabel('Losses')\n",
    "    plt.xlabel('epoch')\n",
    "    plt.plot(losses)\n",
    "    plt.subplot(212)\n",
    "    plt.ylabel('Test Accuracy')\n",
    "    plt.xlabel('Epoch')\n",
    "    plt.plot(acc)\n",
    "    plt.show()\n",
    "    return acc\n",
    "\n",
    "def evaluate(model):\n",
    "    model.train(False)\n",
    "    output = model(Variable(torch.from_numpy(X_test.astype(np.float32))))\n",
    "    correct = 0\n",
    "    for i in range(len(y_test)):\n",
    "        if torch.max(output,1)[1].data.numpy()[i] == y_test[i]:\n",
    "            correct+=1\n",
    "    return correct/len(y_test)\n",
    "\n",
    "\n",
    "model = NN(input_size, output_size)\n",
    "learning_rate = 0.0003\n",
    "criterion = nn.CrossEntropyLoss()\n",
    "optimizer = torch.optim.Adam(model.parameters(), lr=learning_rate)\n",
    "losses = []\n",
    "\n",
    "acc = train(model)\n",
    "print('Accuracy over test set:', evaluate(model))"
   ]
  }
 ],
 "metadata": {
  "kernelspec": {
   "display_name": "Python 3",
   "language": "python",
   "name": "python3"
  },
  "language_info": {
   "codemirror_mode": {
    "name": "ipython",
    "version": 3
   },
   "file_extension": ".py",
   "mimetype": "text/x-python",
   "name": "python",
   "nbconvert_exporter": "python",
   "pygments_lexer": "ipython3",
   "version": "3.5.2"
  }
 },
 "nbformat": 4,
 "nbformat_minor": 2
}
