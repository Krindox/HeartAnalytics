{
 "cells": [
  {
   "cell_type": "markdown",
   "metadata": {},
   "source": [
    "## Preprocess Data"
   ]
  },
  {
   "cell_type": "code",
   "execution_count": 29,
   "metadata": {},
   "outputs": [],
   "source": [
    "import pandas as pd\n",
    "import numpy as np"
   ]
  },
  {
   "cell_type": "code",
   "execution_count": 30,
   "metadata": {},
   "outputs": [],
   "source": [
    "def preprocess(data_lines):\n",
    "    for sent in data_lines:\n",
    "        for word_data in sent:\n",
    "            data = word_data.split()\n",
    "            word = data[0]\n",
    "            pos = data[1]\n",
    "            ner_tag = data[-1]\n",
    "            yield word, pos, ner_tag\n",
    "\n",
    "with open('../datasets/NER/ner_data/train') as f:\n",
    "    lines = f.readlines()"
   ]
  },
  {
   "cell_type": "code",
   "execution_count": 31,
   "metadata": {},
   "outputs": [],
   "source": [
    "lines = ''.join(lines)"
   ]
  },
  {
   "cell_type": "code",
   "execution_count": 32,
   "metadata": {},
   "outputs": [],
   "source": [
    "lines = lines.lower()\n"
   ]
  },
  {
   "cell_type": "code",
   "execution_count": 33,
   "metadata": {},
   "outputs": [],
   "source": [
    "lines = lines.split('-docstart- -x- o o')"
   ]
  },
  {
   "cell_type": "code",
   "execution_count": 34,
   "metadata": {},
   "outputs": [
    {
     "data": {
      "text/plain": [
       "947"
      ]
     },
     "execution_count": 34,
     "metadata": {},
     "output_type": "execute_result"
    }
   ],
   "source": [
    "len(lines)"
   ]
  },
  {
   "cell_type": "code",
   "execution_count": 35,
   "metadata": {},
   "outputs": [],
   "source": [
    "lines = [line.strip() for line in lines]"
   ]
  },
  {
   "cell_type": "code",
   "execution_count": 36,
   "metadata": {},
   "outputs": [],
   "source": [
    "dlines = [line.split('\\n') for line in lines] "
   ]
  },
  {
   "cell_type": "code",
   "execution_count": 37,
   "metadata": {},
   "outputs": [],
   "source": [
    "flattened = []\n",
    "for para in dlines:\n",
    "    for line in para:\n",
    "        if line:\n",
    "            flattened.append(line.split())"
   ]
  },
  {
   "cell_type": "code",
   "execution_count": 38,
   "metadata": {},
   "outputs": [],
   "source": [
    "df = pd.DataFrame(flattened)"
   ]
  },
  {
   "cell_type": "code",
   "execution_count": 39,
   "metadata": {},
   "outputs": [],
   "source": [
    "df.to_csv('../datasets/NER/prep_train.csv')"
   ]
  },
  {
   "cell_type": "code",
   "execution_count": 40,
   "metadata": {},
   "outputs": [
    {
     "data": {
      "text/html": [
       "<div>\n",
       "<style>\n",
       "    .dataframe thead tr:only-child th {\n",
       "        text-align: right;\n",
       "    }\n",
       "\n",
       "    .dataframe thead th {\n",
       "        text-align: left;\n",
       "    }\n",
       "\n",
       "    .dataframe tbody tr th {\n",
       "        vertical-align: top;\n",
       "    }\n",
       "</style>\n",
       "<table border=\"1\" class=\"dataframe\">\n",
       "  <thead>\n",
       "    <tr style=\"text-align: right;\">\n",
       "      <th></th>\n",
       "      <th>0</th>\n",
       "      <th>1</th>\n",
       "      <th>2</th>\n",
       "      <th>3</th>\n",
       "    </tr>\n",
       "  </thead>\n",
       "  <tbody>\n",
       "    <tr>\n",
       "      <th>0</th>\n",
       "      <td>eu</td>\n",
       "      <td>nnp</td>\n",
       "      <td>i-np</td>\n",
       "      <td>i-org</td>\n",
       "    </tr>\n",
       "    <tr>\n",
       "      <th>1</th>\n",
       "      <td>rejects</td>\n",
       "      <td>vbz</td>\n",
       "      <td>i-vp</td>\n",
       "      <td>o</td>\n",
       "    </tr>\n",
       "    <tr>\n",
       "      <th>2</th>\n",
       "      <td>german</td>\n",
       "      <td>jj</td>\n",
       "      <td>i-np</td>\n",
       "      <td>i-misc</td>\n",
       "    </tr>\n",
       "    <tr>\n",
       "      <th>3</th>\n",
       "      <td>call</td>\n",
       "      <td>nn</td>\n",
       "      <td>i-np</td>\n",
       "      <td>o</td>\n",
       "    </tr>\n",
       "    <tr>\n",
       "      <th>4</th>\n",
       "      <td>to</td>\n",
       "      <td>to</td>\n",
       "      <td>i-vp</td>\n",
       "      <td>o</td>\n",
       "    </tr>\n",
       "  </tbody>\n",
       "</table>\n",
       "</div>"
      ],
      "text/plain": [
       "         0    1     2       3\n",
       "0       eu  nnp  i-np   i-org\n",
       "1  rejects  vbz  i-vp       o\n",
       "2   german   jj  i-np  i-misc\n",
       "3     call   nn  i-np       o\n",
       "4       to   to  i-vp       o"
      ]
     },
     "execution_count": 40,
     "metadata": {},
     "output_type": "execute_result"
    }
   ],
   "source": [
    "df.head()"
   ]
  },
  {
   "cell_type": "code",
   "execution_count": 41,
   "metadata": {},
   "outputs": [],
   "source": [
    "flattened = []\n",
    "for para in dlines:\n",
    "    words_in_line  = []\n",
    "    for line in para:\n",
    "        if line:\n",
    "            word = line.split()[0]\n",
    "            words_in_line.append(word)\n",
    "    flattened.append(words_in_line)"
   ]
  },
  {
   "cell_type": "code",
   "execution_count": 42,
   "metadata": {},
   "outputs": [],
   "source": [
    "from gensim.models import Word2Vec"
   ]
  },
  {
   "cell_type": "code",
   "execution_count": 43,
   "metadata": {},
   "outputs": [
    {
     "name": "stderr",
     "output_type": "stream",
     "text": [
      "WARNING:gensim.models.word2vec:consider setting layer size to a multiple of 4 for greater performance\n"
     ]
    }
   ],
   "source": [
    "model = Word2Vec(flattened,min_count=1, size=50, workers=4)"
   ]
  },
  {
   "cell_type": "code",
   "execution_count": 44,
   "metadata": {},
   "outputs": [],
   "source": [
    "model.save('../models/ner_word_to_vec50')"
   ]
  },
  {
   "cell_type": "code",
   "execution_count": 45,
   "metadata": {},
   "outputs": [
    {
     "data": {
      "text/plain": [
       "[('belgium', 0.9993789196014404),\n",
       " ('15-12', 0.9985662698745728),\n",
       " ('men', 0.9984050989151001),\n",
       " ('pounds', 0.9981710910797119),\n",
       " ('toyota', 0.998096227645874),\n",
       " ('metres', 0.9976305365562439),\n",
       " ('hill', 0.9975293874740601),\n",
       " ('rabobank', 0.9970297813415527),\n",
       " ('anders', 0.996955931186676),\n",
       " ('williams', 0.9969029426574707)]"
      ]
     },
     "execution_count": 45,
     "metadata": {},
     "output_type": "execute_result"
    }
   ],
   "source": [
    "model.most_similar('britain')"
   ]
  },
  {
   "cell_type": "code",
   "execution_count": 46,
   "metadata": {},
   "outputs": [],
   "source": [
    "words_unique = df[0].unique()\n",
    "pos1_unique = df[1].unique()\n",
    "pos2_unique = df[2].unique()\n",
    "ner_tag_unique = df[3].unique()"
   ]
  },
  {
   "cell_type": "code",
   "execution_count": 47,
   "metadata": {},
   "outputs": [
    {
     "data": {
      "text/plain": [
       "(21009, 45, 17, 8)"
      ]
     },
     "execution_count": 47,
     "metadata": {},
     "output_type": "execute_result"
    }
   ],
   "source": [
    "len(words_unique), len(pos1_unique), len(pos2_unique), len(ner_tag_unique)"
   ]
  },
  {
   "cell_type": "code",
   "execution_count": 104,
   "metadata": {},
   "outputs": [
    {
     "data": {
      "text/plain": [
       "array([ 0.19610199,  0.36634412,  0.37448475,  0.28899369,  0.50808477,\n",
       "        0.12252712,  0.23630257,  0.84013253,  0.0398668 ,  0.95358223,\n",
       "        0.22630259,  0.73313618,  0.52588075,  0.1085002 ,  0.81756812,\n",
       "        0.69893545,  0.50664914,  0.41141805,  0.82464719,  0.29948178,\n",
       "        0.33172587,  0.17498596,  0.13708961,  0.14883095,  0.02761589,\n",
       "        0.91030473,  0.38769689,  0.08415267,  0.51086742,  0.31247234,\n",
       "        0.07131792,  0.39750078,  0.13482596,  0.99242491,  0.84296721,\n",
       "        0.41715375,  0.22690408,  0.08056165,  0.33271489,  0.55464542,\n",
       "        0.13982174,  0.38572928,  0.91170478,  0.10298305,  0.74147236,\n",
       "        0.17546977,  0.97546738,  0.97363341,  0.12150187,  0.9990142 ], dtype=float32)"
      ]
     },
     "execution_count": 104,
     "metadata": {},
     "output_type": "execute_result"
    }
   ],
   "source": [
    "def word_to_tensor(word):\n",
    "    if word in model.wv:\n",
    "        return model.wv[word]\n",
    "    else:\n",
    "#         print('not in model')\n",
    "        return np.random.rand(model.vector_size).astype(np.float32)\n",
    "word_to_tensor('hello')"
   ]
  },
  {
   "cell_type": "code",
   "execution_count": 49,
   "metadata": {},
   "outputs": [],
   "source": [
    "pos1_to_ix = {}\n",
    "ix_to_pos1 = {}\n",
    "pos2_to_ix = {}\n",
    "ix_to_pos2 = {}\n",
    "\n",
    "for i in range(len(pos1_unique)):\n",
    "    pos1_to_ix[pos1_unique[i]]  = i\n",
    "    ix_to_pos1[i] = pos1_unique[i]\n",
    "    \n",
    "for i in range(len(pos2_unique)):\n",
    "    pos2_to_ix[pos2_unique[i]]  = i\n",
    "    ix_to_pos2[i] = pos2_unique[i]"
   ]
  },
  {
   "cell_type": "code",
   "execution_count": 50,
   "metadata": {},
   "outputs": [],
   "source": [
    "ix_to_ner = {}\n",
    "ner_to_ix = {}\n",
    "\n",
    "for i in range(len(ner_tag_unique)):\n",
    "    ner_to_ix[ner_tag_unique[i]] = i\n",
    "    ix_to_ner[i] = ner_tag_unique[i]"
   ]
  },
  {
   "cell_type": "code",
   "execution_count": 51,
   "metadata": {},
   "outputs": [
    {
     "data": {
      "text/plain": [
       "{'b-adjp': 16,\n",
       " 'b-advp': 14,\n",
       " 'b-np': 4,\n",
       " 'b-pp': 10,\n",
       " 'b-sbar': 15,\n",
       " 'b-vp': 9,\n",
       " 'i-adjp': 6,\n",
       " 'i-advp': 7,\n",
       " 'i-conjp': 11,\n",
       " 'i-intj': 12,\n",
       " 'i-lst': 13,\n",
       " 'i-np': 0,\n",
       " 'i-pp': 3,\n",
       " 'i-prt': 8,\n",
       " 'i-sbar': 5,\n",
       " 'i-vp': 1,\n",
       " 'o': 2}"
      ]
     },
     "execution_count": 51,
     "metadata": {},
     "output_type": "execute_result"
    }
   ],
   "source": [
    "pos2_to_ix"
   ]
  },
  {
   "cell_type": "code",
   "execution_count": 23,
   "metadata": {},
   "outputs": [],
   "source": [
    "split_lines = [line.split('\\n\\n') for line in lines]"
   ]
  },
  {
   "cell_type": "markdown",
   "metadata": {},
   "source": [
    "### Prepare Vectors and data segregation"
   ]
  },
  {
   "cell_type": "code",
   "execution_count": 24,
   "metadata": {},
   "outputs": [
    {
     "name": "stdout",
     "output_type": "stream",
     "text": [
      "[[('eu', 'nnp', 'i-np'), ('rejects', 'vbz', 'i-vp'), ('german', 'jj', 'i-np'), ('call', 'nn', 'i-np'), ('to', 'to', 'i-vp'), ('boycott', 'vb', 'i-vp'), ('british', 'jj', 'i-np'), ('lamb', 'nn', 'i-np'), ('.', '.', 'o')], [('peter', 'nnp', 'i-np'), ('blackburn', 'nnp', 'i-np')], [('brussels', 'nnp', 'i-np'), ('1996-08-22', 'cd', 'i-np')], [('the', 'dt', 'i-np'), ('european', 'nnp', 'i-np'), ('commission', 'nnp', 'i-np'), ('said', 'vbd', 'i-vp'), ('on', 'in', 'i-pp'), ('thursday', 'nnp', 'i-np'), ('it', 'prp', 'b-np'), ('disagreed', 'vbd', 'i-vp'), ('with', 'in', 'i-pp'), ('german', 'jj', 'i-np'), ('advice', 'nn', 'i-np'), ('to', 'to', 'i-pp'), ('consumers', 'nns', 'i-np'), ('to', 'to', 'i-vp'), ('shun', 'vb', 'i-vp'), ('british', 'jj', 'i-np'), ('lamb', 'nn', 'i-np'), ('until', 'in', 'i-sbar'), ('scientists', 'nns', 'i-np'), ('determine', 'vbp', 'i-vp'), ('whether', 'in', 'i-sbar'), ('mad', 'jj', 'i-np'), ('cow', 'nn', 'i-np'), ('disease', 'nn', 'i-np'), ('can', 'md', 'i-vp'), ('be', 'vb', 'i-vp'), ('transmitted', 'vbn', 'i-vp'), ('to', 'to', 'i-pp'), ('sheep', 'nn', 'i-np'), ('.', '.', 'o')], [('germany', 'nnp', 'i-np'), (\"'s\", 'pos', 'b-np'), ('representative', 'nn', 'i-np'), ('to', 'to', 'i-pp'), ('the', 'dt', 'i-np'), ('european', 'nnp', 'i-np'), ('union', 'nnp', 'i-np'), (\"'s\", 'pos', 'b-np'), ('veterinary', 'jj', 'i-np'), ('committee', 'nn', 'i-np'), ('werner', 'nnp', 'i-np'), ('zwingmann', 'nnp', 'i-np'), ('said', 'vbd', 'i-vp'), ('on', 'in', 'i-pp'), ('wednesday', 'nnp', 'i-np'), ('consumers', 'nns', 'i-np'), ('should', 'md', 'i-vp'), ('buy', 'vb', 'i-vp'), ('sheepmeat', 'nn', 'i-np'), ('from', 'in', 'i-pp'), ('countries', 'nns', 'i-np'), ('other', 'jj', 'i-adjp'), ('than', 'in', 'i-pp'), ('britain', 'nnp', 'i-np'), ('until', 'in', 'i-sbar'), ('the', 'dt', 'i-np'), ('scientific', 'jj', 'i-np'), ('advice', 'nn', 'i-np'), ('was', 'vbd', 'i-vp'), ('clearer', 'jjr', 'i-adjp'), ('.', '.', 'o')]]\n",
      "[['i-org', 'o', 'i-misc', 'o', 'o', 'o', 'i-misc', 'o', 'o'], ['i-per', 'i-per'], ['i-loc', 'o'], ['o', 'i-org', 'i-org', 'o', 'o', 'o', 'o', 'o', 'o', 'i-misc', 'o', 'o', 'o', 'o', 'o', 'i-misc', 'o', 'o', 'o', 'o', 'o', 'o', 'o', 'o', 'o', 'o', 'o', 'o', 'o', 'o'], ['i-loc', 'o', 'o', 'o', 'o', 'i-org', 'i-org', 'o', 'o', 'o', 'i-per', 'i-per', 'o', 'o', 'o', 'o', 'o', 'o', 'o', 'o', 'o', 'o', 'o', 'i-loc', 'o', 'o', 'o', 'o', 'o', 'o', 'o']]\n"
     ]
    }
   ],
   "source": [
    "flat_para = []\n",
    "X_words = []\n",
    "X_pos1 = []\n",
    "X_pos2 = []\n",
    "y_ner = []\n",
    "for ess in split_lines:\n",
    "\n",
    "    for para in ess:\n",
    "        \n",
    "        chunks = para.split('\\n')\n",
    "#         print(chunks)\n",
    "        words = []\n",
    "        pos1 = []\n",
    "        pos2 = []\n",
    "        ner = []\n",
    "        for part in chunks:\n",
    "            if part:\n",
    "                word, pos1_tag, pos2_tag, ner_tag = part.split()\n",
    "                words.append((word,pos1_tag,pos2_tag))\n",
    "                pos1.append(pos1_tag)\n",
    "                pos2.append(pos2_tag)\n",
    "                ner.append(ner_tag)\n",
    "\n",
    "        X_words.append(words)\n",
    "\n",
    "        y_ner.append(ner)\n",
    "        \n",
    "print(X_words[:5])\n",
    "print(y_ner[:5])"
   ]
  },
  {
   "cell_type": "markdown",
   "metadata": {},
   "source": [
    "### prepare vectors"
   ]
  },
  {
   "cell_type": "code",
   "execution_count": 25,
   "metadata": {},
   "outputs": [],
   "source": [
    "\"\"\" Prepare X vectors\"\"\"\n",
    "def convert_to_vec(X_words):\n",
    "    X = []\n",
    "    for sent in X_words:\n",
    "        X_val = []\n",
    "        for word in sent:\n",
    "            wv = model.wv[word[0]]\n",
    "            wv_val = wv.tolist()\n",
    "            wv_val.append(pos1_to_ix[word[1]])\n",
    "            wv_val.append(pos2_to_ix[word[2]])\n",
    "            X_val.append(wv_val)\n",
    "        \n",
    "#         print(X_val)\n",
    "        X.append(X_val)\n",
    "    return X\n",
    "        \n",
    "    \n",
    "X = convert_to_vec(X_words)"
   ]
  },
  {
   "cell_type": "code",
   "execution_count": 26,
   "metadata": {},
   "outputs": [
    {
     "data": {
      "text/plain": [
       "[0, 1, 0, 0, 0, 0, 0, 0]"
      ]
     },
     "execution_count": 26,
     "metadata": {},
     "output_type": "execute_result"
    }
   ],
   "source": [
    "''' One hot vectors for some other framework not required in pytorch'''\n",
    "def convert_ner_vec(ner):\n",
    "    vec = [0]*8\n",
    "    vec[ner] = 1\n",
    "    return vec\n",
    "convert_ner_vec(1)"
   ]
  },
  {
   "cell_type": "code",
   "execution_count": 27,
   "metadata": {},
   "outputs": [],
   "source": [
    "'''Prepare y vectors '''\n",
    "def convert_y_vec(y_vec):\n",
    "    y = []\n",
    "    for val in y_vec:\n",
    "        y_val = []\n",
    "        for v in val:\n",
    "            y_val.append(ner_to_ix[v])\n",
    "        y.append(y_val)\n",
    "    return y\n",
    "y = convert_y_vec(y_ner)"
   ]
  },
  {
   "cell_type": "code",
   "execution_count": 28,
   "metadata": {},
   "outputs": [
    {
     "name": "stdout",
     "output_type": "stream",
     "text": [
      "(14042,)\n",
      "(14042,)\n"
     ]
    }
   ],
   "source": [
    "X_np = np.array(X)\n",
    "y_np = np.array(y)\n",
    "print(X_np.shape)\n",
    "print(y_np.shape)"
   ]
  },
  {
   "cell_type": "code",
   "execution_count": 29,
   "metadata": {},
   "outputs": [
    {
     "data": {
      "text/plain": [
       "[0, 1, 2, 1, 1, 1, 2, 1, 1]"
      ]
     },
     "execution_count": 29,
     "metadata": {},
     "output_type": "execute_result"
    }
   ],
   "source": [
    "y[0]"
   ]
  },
  {
   "cell_type": "code",
   "execution_count": null,
   "metadata": {},
   "outputs": [],
   "source": []
  },
  {
   "cell_type": "code",
   "execution_count": 98,
   "metadata": {},
   "outputs": [],
   "source": [
    "''' Train and validation set '''\n",
    "def train_test_split(X,y, train_ratio=0.9):\n",
    "    split_index = int(len(X)*train_ratio) \n",
    "    train_X = X[:split_index]\n",
    "    train_y = y[:split_index]\n",
    "    test_X = X[split_index:]\n",
    "    test_y = y[split_index:]\n",
    "    return train_X, test_X, train_y, test_y"
   ]
  },
  {
   "cell_type": "markdown",
   "metadata": {},
   "source": [
    "#### Some dimensionality checks for self  assurance XD"
   ]
  },
  {
   "cell_type": "code",
   "execution_count": 31,
   "metadata": {},
   "outputs": [
    {
     "data": {
      "text/plain": [
       "(9, 52)"
      ]
     },
     "execution_count": 31,
     "metadata": {},
     "output_type": "execute_result"
    }
   ],
   "source": [
    "np.array(X[0]).shape"
   ]
  },
  {
   "cell_type": "code",
   "execution_count": 32,
   "metadata": {},
   "outputs": [
    {
     "data": {
      "text/plain": [
       "(9,)"
      ]
     },
     "execution_count": 32,
     "metadata": {},
     "output_type": "execute_result"
    }
   ],
   "source": [
    "np.array(y[0]).shape"
   ]
  },
  {
   "cell_type": "code",
   "execution_count": 99,
   "metadata": {},
   "outputs": [
    {
     "name": "stdout",
     "output_type": "stream",
     "text": [
      "12637 1405 12637 1405\n"
     ]
    }
   ],
   "source": [
    "X_train, X_test, y_train, y_test = train_test_split(X_np, y_np)\n",
    "print(len(X_train), len(X_test), len(y_train), len(y_test))"
   ]
  },
  {
   "cell_type": "code",
   "execution_count": 100,
   "metadata": {},
   "outputs": [
    {
     "data": {
      "text/plain": [
       "(9,)"
      ]
     },
     "execution_count": 100,
     "metadata": {},
     "output_type": "execute_result"
    }
   ],
   "source": [
    "np.array(y_train[0]).shape"
   ]
  },
  {
   "cell_type": "markdown",
   "metadata": {},
   "source": [
    "## Time for Torch"
   ]
  },
  {
   "cell_type": "code",
   "execution_count": 111,
   "metadata": {},
   "outputs": [],
   "source": [
    "import torch\n",
    "import torch.nn as nn\n",
    "import torch.nn.functional as F\n",
    "from torch.autograd import Variable\n",
    "import torch.optim as optim"
   ]
  },
  {
   "cell_type": "code",
   "execution_count": 112,
   "metadata": {},
   "outputs": [],
   "source": [
    "class RNN(nn.Module):\n",
    "    def __init__(self,input_size, hidden_size,output_size):\n",
    "        super(RNN, self).__init__()\n",
    "        self.hidden_size = hidden_size\n",
    "        self.i2h = nn.Linear(input_size + hidden_size, hidden_size)\n",
    "        self.i2o = nn.Linear(input_size + hidden_size, 100)\n",
    "        self.l1 = nn.Linear(100,50)\n",
    "        self.l2 = nn.Linear(50,10)\n",
    "        self.l3 =nn.Linear(10,output_size)\n",
    "        \n",
    "    def initHidden(self):\n",
    "        return Variable(torch.zeros(1,self.hidden_size))\n",
    "    \n",
    "    def forward(self, input, hidden):\n",
    "        combined = torch.cat((input,hidden), 1)\n",
    "        hidden = self.i2h(combined)\n",
    "        output = self.i2o(combined)\n",
    "        output = F.relu(self.l1(output))\n",
    "        output = F.relu(self.l2(output))\n",
    "        output = F.softmax(self.l3(output))\n",
    "        return output, hidden"
   ]
  },
  {
   "cell_type": "code",
   "execution_count": 103,
   "metadata": {},
   "outputs": [],
   "source": [
    "INPUT_SIZE = 52\n",
    "HIDDEN_SIZE = 256\n",
    "OUTPUT_SIZE = 8\n",
    "learning_rate = 1e-3"
   ]
  },
  {
   "cell_type": "code",
   "execution_count": 140,
   "metadata": {},
   "outputs": [
    {
     "name": "stdout",
     "output_type": "stream",
     "text": [
      "torch.Size([1, 52])\n",
      "torch.Size([1, 256])\n",
      "torch.Size([1, 8])\n",
      "torch.Size([1, 256])\n"
     ]
    },
    {
     "data": {
      "text/plain": [
       "Variable containing:\n",
       " 2.0861\n",
       "[torch.FloatTensor of size 1]"
      ]
     },
     "execution_count": 140,
     "metadata": {},
     "output_type": "execute_result"
    }
   ],
   "source": [
    "# can ignore this cell meant for validation after all torch supports DCG\n",
    "\n",
    "# trial_val = Variable(torch.Tensor(X[0][1]).unsqueeze(0))\n",
    "# print(trial_val.size())\n",
    "# trial_hidden = rnn.initHidden()\n",
    "# print(trial_hidden.size())\n",
    "# output, hidden = rnn(trial_val, trial_hidden)\n",
    "# print(output.size())\n",
    "# print(hidden.size())\n",
    "# criterion(output,Variable( torch.Tensor(y[0][1]).long()))"
   ]
  },
  {
   "cell_type": "code",
   "execution_count": 43,
   "metadata": {},
   "outputs": [],
   "source": [
    "import matplotlib.pyplot as plt"
   ]
  },
  {
   "cell_type": "markdown",
   "metadata": {},
   "source": [
    "# Final Training"
   ]
  },
  {
   "cell_type": "code",
   "execution_count": 106,
   "metadata": {},
   "outputs": [
    {
     "name": "stdout",
     "output_type": "stream",
     "text": [
      "Epoch  0 Avg loss 2.0894403616\n",
      "Epoch  1 Avg loss 2.04145355984\n",
      "Epoch  2 Avg loss 1.90388846487\n",
      "Epoch  3 Avg loss 1.80077001527\n",
      "Epoch  4 Avg loss 1.73451424841\n",
      "Epoch  5 Avg loss 1.68860841941\n",
      "Epoch  6 Avg loss 1.65501919779\n",
      "Epoch  7 Avg loss 1.6294387786\n",
      "Epoch  8 Avg loss 1.60934497502\n",
      "Epoch  9 Avg loss 1.59316476928\n",
      "CPU times: user 5h 27min 44s, sys: 1min 41s, total: 5h 29min 26s\n",
      "Wall time: 2h 16min 52s\n"
     ]
    }
   ],
   "source": [
    "%%time\n",
    "\n",
    "INPUT_SIZE = 52\n",
    "HIDDEN_SIZE = 128\n",
    "OUTPUT_SIZE = 8\n",
    "learning_rate = 5e-3\n",
    "\n",
    "rnn = RNN(INPUT_SIZE, HIDDEN_SIZE, OUTPUT_SIZE)\n",
    "criterion = nn.CrossEntropyLoss()\n",
    "optimizer = optim.Adam(rnn.parameters(),lr=learning_rate)\n",
    "num_epochs = 10\n",
    "all_losses = []\n",
    "\n",
    "losses = []\n",
    "iter_losses = []\n",
    "for i in range(num_epochs):\n",
    "    iter_loss = []\n",
    "    optimizer.zero_grad()\n",
    "    for j in range(len(X_train)):\n",
    "        loss_per_sample = []\n",
    "        \n",
    "        hidden = rnn.initHidden()\n",
    "        for k in range(len(X_train[j])):\n",
    "            inputs = Variable(torch.Tensor(X_train[j][k]).unsqueeze(0))\n",
    "#             print(y_train[i][j])\n",
    "            targets = Variable(torch.Tensor([y_train[j][k]]).long())            \n",
    "            output, hidden = rnn(inputs,hidden)\n",
    "#             print(output.size())\n",
    "            loss = criterion(output, targets)\n",
    "            loss_per_sample.append(loss.data[0])\n",
    "            loss.backward(retain_graph=True)\n",
    "        \n",
    "        all_losses.extend(loss_per_sample)\n",
    "        iter_loss.append(np.average(loss_per_sample))\n",
    "    optimizer.step()\n",
    "    losses.append(np.average(all_losses))\n",
    "    iter_losses.append(iter_loss)\n",
    "    print('Epoch ', i, 'Avg loss', losses[i])\n",
    "            "
   ]
  },
  {
   "cell_type": "markdown",
   "metadata": {},
   "source": [
    "### When u know what to plot"
   ]
  },
  {
   "cell_type": "code",
   "execution_count": 130,
   "metadata": {},
   "outputs": [
    {
     "data": {
      "image/png": "[encoded data removed]",
      "text/plain": [
       "<matplotlib.figure.Figure at 0x7ff78fd57160>"
      ]
     },
     "metadata": {},
     "output_type": "display_data"
    }
   ],
   "source": [
    "plt.plot(losses)\n",
    "plt.show()"
   ]
  },
  {
   "cell_type": "code",
   "execution_count": 109,
   "metadata": {},
   "outputs": [],
   "source": [
    "torch.save(rnn.state_dict(), '../models/ner.pth')"
   ]
  },
  {
   "cell_type": "code",
   "execution_count": 110,
   "metadata": {},
   "outputs": [],
   "source": [
    "def evaluate(model,X_test,y_test):\n",
    "    model.eval()\n",
    "    correct = 0.0\n",
    "    count = 0.0\n",
    "    print(np.array(X_test).shape)\n",
    "    for i in range(len(X_test)):\n",
    "\n",
    "        hidden = model.initHidden()\n",
    "        for j in range(len(X_test[i])):\n",
    "            count += 1\n",
    "            inputs = Variable(torch.Tensor(X_test[i][j]).unsqueeze(0))\n",
    "            output, hidden = model(inputs, hidden)\n",
    "#             print(output.topk(1)[1].data[0][0])\n",
    "            if output.topk(1)[1].data[0][0] == y_test[i][j]:\n",
    "                correct += 1\n",
    "            \n",
    "    print(correct)\n",
    "    print(count)\n",
    "    print('Test Acc.', correct/ count)"
   ]
  },
  {
   "cell_type": "code",
   "execution_count": 155,
   "metadata": {},
   "outputs": [
    {
     "name": "stdout",
     "output_type": "stream",
     "text": [
      "(1405,)\n",
      "21685.0\n",
      "24803.0\n",
      "Test Acc. 0.8742894004757489\n"
     ]
    }
   ],
   "source": [
    "# for i in range(len(X_test[:1])):\n",
    "#     for j in range(len(X_test[i])):\n",
    "#         print(X_test[i][j])\n",
    "\n",
    "\n",
    "evaluate(rnn,X_test,y_test)\n",
    "# print(y_test[2:3])"
   ]
  },
  {
   "cell_type": "code",
   "execution_count": null,
   "metadata": {},
   "outputs": [],
   "source": [
    "Test Data"
   ]
  },
  {
   "cell_type": "code",
   "execution_count": 20,
   "metadata": {},
   "outputs": [
    {
     "data": {
      "text/plain": [
       "[('belgium', 0.9981899261474609),\n",
       " ('toyota', 0.9979879856109619),\n",
       " ('stated', 0.997677743434906),\n",
       " ('russia', 0.9975883364677429),\n",
       " ('unless', 0.9973466992378235),\n",
       " ('philippoussis', 0.9972662329673767),\n",
       " ('u.s.', 0.9969862699508667),\n",
       " ('metres', 0.9967542886734009),\n",
       " ('yamaha', 0.9964815974235535),\n",
       " ('4-0', 0.9964807033538818)]"
      ]
     },
     "execution_count": 20,
     "metadata": {},
     "output_type": "execute_result"
    }
   ],
   "source": [
    "wv_model = Word2Vec.load('../models/ner_word_to_vec50')\n",
    "wv_model.most_similar('britain')"
   ]
  },
  {
   "cell_type": "markdown",
   "metadata": {},
   "source": [
    "## Prepare testing data  \n"
   ]
  },
  {
   "cell_type": "code",
   "execution_count": null,
   "metadata": {},
   "outputs": [],
   "source": [
    "''' some redundant code will cleanup later its 3:41 AM XD  '''"
   ]
  },
  {
   "cell_type": "code",
   "execution_count": 84,
   "metadata": {},
   "outputs": [],
   "source": [
    "import re\n",
    "with open('../datasets/NER/ner_data/test') as f:\n",
    "    lines = f.readlines()\n",
    "\n",
    "lines = ''.join(lines)\n",
    "lines = lines.lower()\n",
    "lines = ''.join(lines)\n",
    "lines = re.sub('-docstart- -x- -x- o', '', lines)\n",
    "# print(lines[:1])\n",
    "split_lines = lines.split('\\n\\n')\n",
    "split_lines = [line for line in split_lines if line]\n",
    "sent_lines = []\n",
    "for splits in split_lines:\n",
    "    sent_lines.append(splits.split('\\n'))\n",
    "\n",
    "# print(len(split_lines))\n",
    "# print(split_lines[:10])\n",
    "\n",
    "# print(len(sent_lines))\n",
    "# print(sent_lines[:10])\n",
    "flat_para = []\n",
    "X_words = []\n",
    "X_pos1 = []\n",
    "X_pos2 = []\n",
    "y_ner = []\n",
    "\n",
    "for para in sent_lines:\n",
    "#     print(para)\n",
    "#     chunks = para.split('\\n')\n",
    "#     print(chunks)\n",
    "    words = []\n",
    "    pos1 = []\n",
    "    pos2 = []\n",
    "    ner = []\n",
    "\n",
    "    for part in para:\n",
    "\n",
    "        if part:\n",
    "            word, pos1_tag, pos2_tag, ner_tag = part.split()\n",
    "            words.append((word,pos1_tag,pos2_tag))\n",
    "            pos1.append(pos1_tag)\n",
    "            pos2.append(pos2_tag)\n",
    "            ner.append(ner_tag)\n",
    "    if words:\n",
    "        X_words.append(words)\n",
    "\n",
    "        y_ner.append(ner)"
   ]
  },
  {
   "cell_type": "code",
   "execution_count": 85,
   "metadata": {},
   "outputs": [
    {
     "name": "stdout",
     "output_type": "stream",
     "text": [
      "3453 3453\n"
     ]
    }
   ],
   "source": [
    "print(len(X_words),len(y_ner))"
   ]
  },
  {
   "cell_type": "code",
   "execution_count": 91,
   "metadata": {},
   "outputs": [
    {
     "data": {
      "text/plain": [
       "([('soccer', 'nn', 'i-np'),\n",
       "  ('-', ':', 'o'),\n",
       "  ('japan', 'nnp', 'i-np'),\n",
       "  ('get', 'vb', 'i-vp'),\n",
       "  ('lucky', 'nnp', 'i-np'),\n",
       "  ('win', 'nnp', 'i-np'),\n",
       "  (',', ',', 'o'),\n",
       "  ('china', 'nnp', 'i-np'),\n",
       "  ('in', 'in', 'i-pp'),\n",
       "  ('surprise', 'dt', 'i-np'),\n",
       "  ('defeat', 'nn', 'i-np'),\n",
       "  ('.', '.', 'o')],\n",
       " ['o', 'o', 'i-loc', 'o', 'o', 'o', 'o', 'i-per', 'o', 'o', 'o', 'o'],\n",
       " 12)"
      ]
     },
     "execution_count": 91,
     "metadata": {},
     "output_type": "execute_result"
    }
   ],
   "source": [
    "X_words[0],  y_ner[0], len(y_ner[0])"
   ]
  },
  {
   "cell_type": "code",
   "execution_count": 106,
   "metadata": {},
   "outputs": [
    {
     "data": {
      "text/plain": [
       "(12, 52)"
      ]
     },
     "execution_count": 106,
     "metadata": {},
     "output_type": "execute_result"
    }
   ],
   "source": [
    "\"\"\"Prepare test tensor\"\"\"\n",
    "def val_to_tensor(value):\n",
    "    tensor = []\n",
    "    for val in value:\n",
    "        \n",
    "        wv = word_to_tensor(val[0]).tolist()\n",
    "        wv.append(pos1_to_ix[val[1]])\n",
    "        wv.append(pos2_to_ix[val[2]])\n",
    "        tensor.append(wv)\n",
    "    return tensor\n",
    "np.array(val_to_tensor(X_words[0])).shape"
   ]
  },
  {
   "cell_type": "code",
   "execution_count": 107,
   "metadata": {},
   "outputs": [],
   "source": [
    "X_test_set = [val_to_tensor(X) for X in X_words]\n",
    "y_test_set = convert_y_vec(y_ner)"
   ]
  },
  {
   "cell_type": "code",
   "execution_count": 109,
   "metadata": {},
   "outputs": [
    {
     "name": "stdout",
     "output_type": "stream",
     "text": [
      "3453\n"
     ]
    }
   ],
   "source": [
    "print(len(X_test_set))"
   ]
  },
  {
   "cell_type": "code",
   "execution_count": 108,
   "metadata": {},
   "outputs": [
    {
     "name": "stdout",
     "output_type": "stream",
     "text": [
      "(3453,)\n"
     ]
    }
   ],
   "source": [
    "print(np.array(y_test_set).shape)"
   ]
  },
  {
   "cell_type": "code",
   "execution_count": 114,
   "metadata": {},
   "outputs": [],
   "source": [
    "\n",
    "INPUT_SIZE = 52\n",
    "HIDDEN_SIZE = 128\n",
    "OUTPUT_SIZE = 8\n",
    "learning_rate = 5e-3\n",
    "model = RNN(INPUT_SIZE, HIDDEN_SIZE, OUTPUT_SIZE)\n"
   ]
  },
  {
   "cell_type": "code",
   "execution_count": 116,
   "metadata": {},
   "outputs": [],
   "source": [
    "model.load_state_dict(torch.load('../models/ner.pth'))"
   ]
  },
  {
   "cell_type": "code",
   "execution_count": 117,
   "metadata": {},
   "outputs": [
    {
     "name": "stdout",
     "output_type": "stream",
     "text": [
      "(3453,)\n",
      "38250.0\n",
      "46435.0\n",
      "Test Acc. 0.8237320986324971\n"
     ]
    }
   ],
   "source": [
    "evaluate(model, X_test_set, y_test_set)"
   ]
  }
 ],
 "metadata": {
  "kernelspec": {
   "display_name": "Python 3",
   "language": "python",
   "name": "python3"
  },
  "language_info": {
   "codemirror_mode": {
    "name": "ipython",
    "version": 3
   },
   "file_extension": ".py",
   "mimetype": "text/x-python",
   "name": "python",
   "nbconvert_exporter": "python",
   "pygments_lexer": "ipython3",
   "version": "3.5.2"
  }
 },
 "nbformat": 4,
 "nbformat_minor": 2
}
